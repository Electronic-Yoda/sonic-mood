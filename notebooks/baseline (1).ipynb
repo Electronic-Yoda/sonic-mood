{
  "nbformat": 4,
  "nbformat_minor": 0,
  "metadata": {
    "colab": {
      "provenance": []
    },
    "kernelspec": {
      "name": "python3",
      "display_name": "Python 3"
    },
    "language_info": {
      "name": "python"
    }
  },
  "cells": [
    {
      "cell_type": "code",
      "source": [
        "!unzip /content/testBL3-20230710T191653Z-001.zip"
      ],
      "metadata": {
        "id": "aRvViWZzELx7"
      },
      "execution_count": null,
      "outputs": []
    },
    {
      "cell_type": "code",
      "execution_count": null,
      "metadata": {
        "id": "rCEr5ov82G3n"
      },
      "outputs": [],
      "source": [
        "import librosa\n",
        "import warnings\n",
        "import numpy as np\n",
        "import pandas as pd\n",
        "import os\n",
        "warnings.filterwarnings(\"ignore\")\n",
        "\n",
        "emotion_arr = []\n",
        "sad_arr = []\n",
        "labels = []\n",
        "\n",
        "\"\"\"\n",
        "for x in os.listdir(\"/content/test_BL/neutral\"):\n",
        "  file_name = \"/content/test_BL/neutral/\"+str(x)\n",
        "  y, sr = librosa.load(file_name)\n",
        "  y = librosa.effects.harmonic(y)\n",
        "  tonnetz = np.median(librosa.feature.tonnetz(y=y,sr=sr))\n",
        "  emotion_arr.append(tonnetz)\n",
        "  labels.append(\"neural\")\"\"\"\n",
        "#emotion_list = [\"sad\", \"neutral\", \"happy\", \"disgust\", \"fear\", \"angry\"]\n",
        "emotion_list = [\"sad\", \"happy\", \"fear\", \"angry\"]\n",
        "for emotion in emotion_list:\n",
        "  emotion_str = \"/content/testBL3/\" + emotion\n",
        "  for x in os.listdir(emotion_str):\n",
        "    file_name = emotion_str+\"/\"+str(x)\n",
        "    y, sr = librosa.load(file_name)\n",
        "    mel = np.median(librosa.feature.melspectrogram(y=y,sr=sr))\n",
        "    #y = librosa.effects.harmonic(y)\n",
        "    #tonnetz = np.median(librosa.feature.tonnetz(y=y,sr=sr))\n",
        "    emotion_arr.append(mel)\n",
        "    labels.append(emotion)\n"
      ]
    },
    {
      "cell_type": "code",
      "source": [
        "\"\"\"emotion_arr_happy = []\n",
        "for x in os.listdir(\"/content/test_BL/angry\"):\n",
        "  file_name = \"/content/test_BL/angry/\"+str(x)\n",
        "  y, sr = librosa.load(file_name)\n",
        "  y = librosa.effects.harmonic(y)\n",
        "  tonnetz = np.median(librosa.feature.tonnetz(y=y,sr=sr))\n",
        "  emotion_arr_happy.append(tonnetz)\n",
        "print(emotion_arr_happy)\"\"\""
      ],
      "metadata": {
        "colab": {
          "base_uri": "https://localhost:8080/"
        },
        "id": "CRaRZsHQruu_",
        "outputId": "a337abc7-638d-4167-b02b-65adc7e03ec2"
      },
      "execution_count": null,
      "outputs": [
        {
          "output_type": "stream",
          "name": "stdout",
          "text": [
            "[-0.00411489937687296, 0.00033768688654974553, -0.006314455647952992, 0.003024668941242722, -0.006338342209346795, 0.0043576088850668816, 0.0005079313366187791, -0.0023112278855290935, -0.013843490364734281, 0.0027693279620399154, 0.011499566782731254, -0.0072196756882285575, 0.0008747094883217562, 0.005031564846554111, -0.002752862793147912, -0.0008692152112108929, -0.005880168352664231, 0.00014263300402117372, -0.02640935769878873, -0.009466759394699167]\n"
          ]
        }
      ]
    },
    {
      "cell_type": "code",
      "source": [
        "labeled_df = pd.DataFrame(columns = [\"labels\", \"emotion\"])\n",
        "labeled_df[\"labels\"] = labels\n",
        "labeled_df[\"emotion\"] = emotion_arr\n",
        "\n",
        "labeled_df=labeled_df.sample(frac = 1)\n",
        "\n",
        "emotion_train = np.array(labeled_df[\"emotion\"][:1280])\n",
        "emotion_test = np.array(labeled_df[\"emotion\"][1280:1600])\n",
        "labels_train = np.array(labeled_df[\"labels\"][:1280])\n",
        "labels_test = np.array(labeled_df[\"labels\"][1280:1600])"
      ],
      "metadata": {
        "id": "bE9bGcakpI7m"
      },
      "execution_count": null,
      "outputs": []
    },
    {
      "cell_type": "code",
      "source": [
        "import sklearn\n",
        "from sklearn.svm import SVC\n",
        "from sklearn.metrics import accuracy_score\n",
        "\n",
        "SVM_model = SVC().fit(emotion_train.reshape(-1,1), labels_train)#can it be svc() only\n",
        "model_predict = SVM_model.predict(emotion_test.reshape(-1,1))\n",
        "print(model_predict)\n",
        "print(accuracy_score(y_true=labels_test,y_pred=model_predict))"
      ],
      "metadata": {
        "colab": {
          "base_uri": "https://localhost:8080/"
        },
        "id": "KPWVoye-WuVB",
        "outputId": "3a9e2151-e1f2-4195-de9a-c11693df180a"
      },
      "execution_count": null,
      "outputs": [
        {
          "output_type": "stream",
          "name": "stdout",
          "text": [
            "['sad' 'sad' 'sad' 'angry' 'sad' 'sad' 'angry' 'angry' 'sad' 'sad' 'angry'\n",
            " 'sad' 'sad' 'fear' 'angry' 'fear' 'fear' 'sad' 'angry' 'sad' 'sad' 'sad'\n",
            " 'sad' 'angry' 'sad' 'sad' 'sad' 'sad' 'fear' 'sad' 'sad' 'sad' 'angry'\n",
            " 'sad' 'sad' 'fear' 'sad' 'sad' 'fear' 'sad' 'sad' 'sad' 'sad' 'angry'\n",
            " 'angry' 'sad' 'angry' 'sad' 'angry' 'sad' 'angry' 'happy' 'sad' 'sad'\n",
            " 'happy' 'sad' 'angry' 'sad' 'sad' 'happy' 'angry' 'sad' 'sad' 'sad' 'sad'\n",
            " 'angry' 'angry' 'angry' 'angry' 'fear' 'sad' 'fear' 'happy' 'angry' 'sad'\n",
            " 'sad' 'angry' 'happy' 'happy' 'fear' 'angry' 'sad' 'sad' 'happy' 'sad'\n",
            " 'sad' 'angry' 'angry' 'fear' 'fear' 'angry' 'angry' 'angry' 'sad' 'angry'\n",
            " 'angry' 'angry' 'sad' 'angry' 'sad' 'sad' 'sad' 'sad' 'angry' 'sad'\n",
            " 'fear' 'fear' 'sad' 'happy' 'happy' 'angry' 'fear' 'sad' 'fear' 'sad'\n",
            " 'sad' 'sad' 'angry' 'sad' 'sad' 'sad' 'sad' 'sad' 'sad' 'sad' 'sad' 'sad'\n",
            " 'sad' 'happy' 'sad' 'angry' 'sad' 'sad' 'fear' 'sad' 'sad' 'sad' 'sad'\n",
            " 'sad' 'sad' 'angry' 'angry' 'sad' 'angry' 'angry' 'angry' 'angry' 'fear'\n",
            " 'happy' 'angry' 'sad' 'angry' 'sad' 'happy' 'happy' 'sad' 'angry' 'angry'\n",
            " 'sad' 'sad' 'sad' 'sad' 'sad' 'angry' 'happy' 'sad' 'angry' 'sad' 'angry'\n",
            " 'fear' 'sad' 'sad' 'sad' 'angry' 'sad' 'fear' 'angry' 'sad' 'angry'\n",
            " 'happy' 'angry' 'sad' 'sad' 'sad' 'sad' 'sad' 'angry' 'sad' 'happy' 'sad'\n",
            " 'sad' 'angry' 'sad' 'sad' 'happy' 'fear' 'sad' 'sad' 'angry' 'sad' 'sad'\n",
            " 'fear' 'happy' 'angry' 'angry' 'sad' 'happy' 'sad' 'fear' 'happy' 'fear'\n",
            " 'angry' 'happy' 'happy' 'sad' 'angry' 'sad' 'angry' 'angry' 'sad' 'fear'\n",
            " 'sad' 'happy' 'fear' 'angry' 'angry' 'sad' 'angry' 'angry' 'angry'\n",
            " 'happy' 'sad' 'angry' 'fear' 'sad' 'angry' 'happy' 'fear' 'sad' 'sad'\n",
            " 'sad' 'sad' 'fear' 'angry' 'angry' 'sad' 'sad' 'sad' 'happy' 'fear'\n",
            " 'fear' 'angry' 'sad' 'angry' 'sad' 'sad' 'angry' 'sad' 'sad' 'angry'\n",
            " 'sad' 'happy' 'happy' 'angry' 'happy' 'sad' 'angry' 'sad' 'happy' 'fear'\n",
            " 'fear' 'angry' 'sad' 'angry' 'sad' 'sad' 'sad' 'sad' 'fear' 'angry' 'sad'\n",
            " 'angry' 'sad' 'sad' 'sad' 'happy' 'sad' 'angry' 'angry' 'fear' 'happy'\n",
            " 'angry' 'sad' 'sad' 'sad' 'happy' 'sad' 'fear' 'fear' 'sad' 'sad' 'sad'\n",
            " 'angry' 'sad' 'angry' 'sad' 'angry' 'sad' 'sad' 'angry' 'happy' 'angry'\n",
            " 'sad' 'angry' 'sad' 'sad' 'sad' 'sad' 'sad' 'sad']\n",
            "0.45\n"
          ]
        }
      ]
    },
    {
      "cell_type": "markdown",
      "source": [
        "0.325 when using tonnetz"
      ],
      "metadata": {
        "id": "AYrC5G5EGL3s"
      }
    }
  ]
}