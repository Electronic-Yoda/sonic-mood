{
 "cells": [
  {
   "cell_type": "code",
   "execution_count": null,
   "metadata": {},
   "outputs": [],
   "source": [
    "import sys, os\n",
    "import torch\n",
    "\n",
    "BASE_DIR = os.path.abspath(os.path.join(os.getcwd(), os.pardir))\n",
    "\n",
    "sys.path.insert(0, BASE_DIR)\n",
    "\n",
    "import pandas as pd\n",
    "from src.utils.dataset import AudioEmotionDataset\n",
    "from src.utils.constants import Columns, Emotions, Datasets\n",
    "import src.utils.data_processing as data_processing"
   ]
  },
  {
   "cell_type": "code",
   "execution_count": null,
   "metadata": {},
   "outputs": [],
   "source": [
    "# import csvs used for training, validation, and testing\n",
    "train_df = data_processing.read_csv(\n",
    "    pd.read_csv(\n",
    "        os.path.join(BASE_DIR, 'data/metadata/train.csv'),\n",
    "        index_col=False\n",
    "    ),\n",
    "    BASE_DIR\n",
    ")\n",
    "val_df = data_processing.read_csv(\n",
    "    pd.read_csv(\n",
    "        os.path.join(BASE_DIR, 'data/metadata/val.csv'),\n",
    "        index_col=False\n",
    "    ),\n",
    "    BASE_DIR\n",
    ")\n",
    "test_df = data_processing.read_csv(\n",
    "    pd.read_csv(\n",
    "        os.path.join(BASE_DIR, 'data/metadata/test.csv'),\n",
    "        index_col=False\n",
    "    ),\n",
    "    BASE_DIR\n",
    ")\n",
    "\n",
    "# convert the audio files to spectrograms\n",
    "train_ds = AudioEmotionDataset(train_df)\n",
    "val_ds = AudioEmotionDataset(val_df)\n",
    "test_ds = AudioEmotionDataset(test_df)\n"
   ]
  },
  {
   "cell_type": "code",
   "execution_count": null,
   "metadata": {},
   "outputs": [],
   "source": [
    "# convert the audio files to spectrograms\n",
    "data_processing.convert_to_spectrogram(\n",
    "    train_ds, BASE_DIR, 'data/spectrograms/train', 'data/metadata/train_melspec.csv')\n",
    "data_processing.convert_to_spectrogram(\n",
    "    val_ds, BASE_DIR, 'data/spectrograms/val', 'data/metadata/val_melspec.csv')\n",
    "data_processing.convert_to_spectrogram(\n",
    "    test_ds, BASE_DIR, 'data/spectrograms/test', 'data/metadata/test_melspec.csv')"
   ]
  }
 ],
 "metadata": {
  "kernelspec": {
   "display_name": ".venv",
   "language": "python",
   "name": "python3"
  },
  "language_info": {
   "codemirror_mode": {
    "name": "ipython",
    "version": 3
   },
   "file_extension": ".py",
   "mimetype": "text/x-python",
   "name": "python",
   "nbconvert_exporter": "python",
   "pygments_lexer": "ipython3",
   "version": "3.10.10"
  },
  "orig_nbformat": 4
 },
 "nbformat": 4,
 "nbformat_minor": 2
}
